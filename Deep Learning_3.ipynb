{
 "cells": [
  {
   "cell_type": "markdown",
   "id": "5dde5631",
   "metadata": {},
   "source": [
    "### 12.3.8 회귀 신경망 실습\n",
    "\n",
    "* 신경망을 이용하여 보스턴 집값을 예측하는 모형 생성하기<br>\n",
    "\n",
    "```python\n",
    "from sklearn import datasets\n",
    "from sklearn.model_selection import train_test_split\n",
    "\n",
    "import numpy as np\n",
    "import tensorflow as tf\n",
    "\n",
    "from tensorflow.keras.models import Sequential\n",
    "from tensorflow.keras.layers import Dense\n",
    "\n",
    "import matplotlib.pyplot as plt\n",
    "import pandas as pd\n",
    "\n",
    "# 랜덤 시드 설정\n",
    "np.random.seed(0)\n",
    "tf.random.set_seed(0)\n",
    "\n",
    "# 데이터 불러오기\n",
    "raw_boston = datasets.load_boston()\n",
    "\n",
    "# 피처, 타깃 데이터 설정\n",
    "X = raw_boston.data\n",
    "Y = raw_boston.target\n",
    "\n",
    "# 피처 데이터 차원 확인\n",
    "print(X.shape)\n",
    "\n",
    "# 타깃 데이터 종류 확인\n",
    "print(set(Y))\n",
    "\n",
    "# 훈련/테스트 데이터 분할\n",
    "x_tn, x_te, y_tn, y_te = train_test_split(X, Y, random_state = 0)\n",
    "\n",
    "# 신경망 생성\n",
    "n_feat = x_tn.shape[1]\n",
    "epo = 30\n",
    "\n",
    "model = Sequential()\n",
    "model.add(Dense(20, input_dim = n_feat, activation = 'relu'))\n",
    "model.add(Dense(1))\n",
    "\n",
    "# 모형 컴파일\n",
    "model.compile(loss = 'mean_squared_error', optimizer = 'adam', metrics = ['mean_squared_error'])\n",
    "\n",
    "# 신경망 학습\n",
    "hist = model.fit(x_tn, y_tn, epochs = epo, batch_size = 5)\n",
    "\n",
    "# 훈련 데이터 평가\n",
    "print(model.evaluate(x_tn, y_tn)[1])\n",
    "\n",
    "# 테스트 데이터 평가\n",
    "print(model.evaluate(x_te, y_te)[1])\n",
    "\n",
    "epoch = np.arange(1, epo + 1)\n",
    "mse = hist.history['mean_squared_error']\n",
    "loss = hist.history['loss']\n",
    "\n",
    "# MSE 그래프\n",
    "plt.plot(epoch, mse, label = 'mse')\n",
    "plt.xlabel('epoch')\n",
    "plt.ylabel('mean_squared_error')\n",
    "plt.legend()\n",
    "plt.show()\n",
    "\n",
    "# 손실 그래프\n",
    "plt.plot(epoch, loss, 'r', label = 'loss')\n",
    "plt.xlabel('epoch')\n",
    "plt.ylabel('loss')\n",
    "plt.legend()\n",
    "plt.show()\n",
    "\n",
    "# 실제값, 예측값, 데이터 프레임 생성\n",
    "pred_y = model.predict(x_te).flatten()\n",
    "res_df = pd.DataFrame(pred_y, columns = ['predict_val'])\n",
    "res_df['real_val'] = y_te\n",
    "df_sort = res_df.sort_values([\"predict_val\"], ascending = True)\n",
    "\n",
    "# 예측값, 실제값 그래프\n",
    "idx = np.arange(1, len(df_sort) + 1)\n",
    "plt.scatter(idx, df_sort['real_val'], marker = 'o', label = 'real_val')\n",
    "plt.plot(idx, df_sort['predict_val'], color = 'r', label = 'predict_val')\n",
    "plt.xlabel('index')\n",
    "plt.ylabel('value')\n",
    "plt.legend()\n",
    "plt.show()\n",
    "```\n"
   ]
  },
  {
   "cell_type": "code",
   "execution_count": 1,
   "id": "ccd5af12",
   "metadata": {},
   "outputs": [],
   "source": [
    "# 랜덤 시드 설정\n",
    "# 일관된 결과값이 나오도록 함\n",
    "import numpy as np\n",
    "import tensorflow as tf\n",
    "\n",
    "np.random.seed(0)\n",
    "tf.random.set_seed(0)"
   ]
  },
  {
   "cell_type": "code",
   "execution_count": 2,
   "id": "93138931",
   "metadata": {},
   "outputs": [
    {
     "name": "stderr",
     "output_type": "stream",
     "text": [
      "C:\\Users\\rnekd\\anaconda3\\envs\\study_ml\\lib\\site-packages\\sklearn\\utils\\deprecation.py:87: FutureWarning: Function load_boston is deprecated; `load_boston` is deprecated in 1.0 and will be removed in 1.2.\n",
      "\n",
      "    The Boston housing prices dataset has an ethical problem. You can refer to\n",
      "    the documentation of this function for further details.\n",
      "\n",
      "    The scikit-learn maintainers therefore strongly discourage the use of this\n",
      "    dataset unless the purpose of the code is to study and educate about\n",
      "    ethical issues in data science and machine learning.\n",
      "\n",
      "    In this special case, you can fetch the dataset from the original\n",
      "    source::\n",
      "\n",
      "        import pandas as pd\n",
      "        import numpy as np\n",
      "\n",
      "        data_url = \"http://lib.stat.cmu.edu/datasets/boston\"\n",
      "        raw_df = pd.read_csv(data_url, sep=\"\\s+\", skiprows=22, header=None)\n",
      "        data = np.hstack([raw_df.values[::2, :], raw_df.values[1::2, :2]])\n",
      "        target = raw_df.values[1::2, 2]\n",
      "\n",
      "    Alternative datasets include the California housing dataset (i.e.\n",
      "    :func:`~sklearn.datasets.fetch_california_housing`) and the Ames housing\n",
      "    dataset. You can load the datasets as follows::\n",
      "\n",
      "        from sklearn.datasets import fetch_california_housing\n",
      "        housing = fetch_california_housing()\n",
      "\n",
      "    for the California housing dataset and::\n",
      "\n",
      "        from sklearn.datasets import fetch_openml\n",
      "        housing = fetch_openml(name=\"house_prices\", as_frame=True)\n",
      "\n",
      "    for the Ames housing dataset.\n",
      "  warnings.warn(msg, category=FutureWarning)\n"
     ]
    }
   ],
   "source": [
    "# 데이터 불러오기 : 보스턴 집값 데이터\n",
    "from sklearn import datasets\n",
    "\n",
    "raw_boston = datasets.load_boston()"
   ]
  },
  {
   "cell_type": "code",
   "execution_count": 3,
   "id": "2e220b02",
   "metadata": {},
   "outputs": [],
   "source": [
    "# 피처, 타깃 데이터 지정\n",
    "X = raw_boston.data # 피처 데이터 설정\n",
    "Y = raw_boston.target # 타깃 데이터 설정"
   ]
  },
  {
   "cell_type": "code",
   "execution_count": 4,
   "id": "a47fe59e",
   "metadata": {},
   "outputs": [
    {
     "name": "stdout",
     "output_type": "stream",
     "text": [
      "(506, 13)\n"
     ]
    }
   ],
   "source": [
    "# 피처 데이터 차원 확인\n",
    "# 딥러닝에 사용되는 피처의 개수를 확인하기 위함\n",
    "# 신경망 생성에 사용\n",
    "print(X.shape)"
   ]
  },
  {
   "cell_type": "code",
   "execution_count": 5,
   "id": "838af1dd",
   "metadata": {},
   "outputs": [
    {
     "name": "stdout",
     "output_type": "stream",
     "text": [
      "{5.0, 6.3, 7.2, 8.8, 7.4, 10.2, 11.8, 12.7, 13.6, 14.5, 15.0, 16.5, 17.5, 18.9, 18.2, 20.4, 21.6, 22.9, 21.7, 24.0, 19.9, 26.6, 26.5, 27.5, 23.1, 27.1, 28.7, 24.7, 30.8, 33.4, 34.7, 34.9, 36.2, 35.4, 31.6, 33.0, 38.7, 33.2, 43.8, 41.3, 37.2, 39.8, 42.3, 48.5, 44.8, 50.0, 46.7, 48.3, 44.0, 48.8, 46.0, 10.5, 11.5, 11.0, 12.5, 12.0, 13.5, 13.0, 14.0, 16.6, 16.0, 16.1, 16.4, 17.4, 17.1, 17.0, 17.6, 17.9, 18.4, 18.6, 18.5, 18.0, 18.1, 19.6, 19.4, 19.5, 19.1, 19.0, 20.0, 20.5, 20.9, 20.6, 20.1, 21.0, 21.4, 21.5, 21.9, 21.1, 22.0, 22.5, 22.6, 22.4, 22.1, 23.4, 23.5, 23.9, 23.6, 23.0, 24.1, 24.6, 24.4, 24.5, 25.0, 25.1, 26.4, 27.0, 27.9, 28.0, 28.4, 28.1, 28.5, 28.6, 29.4, 29.9, 29.6, 29.1, 29.0, 30.5, 30.1, 31.1, 31.5, 31.0, 32.5, 32.0, 32.9, 32.4, 32.2, 33.3, 33.8, 33.1, 32.7, 8.4, 34.6, 35.2, 35.1, 10.4, 10.9, 7.0, 36.4, 36.0, 36.5, 36.1, 11.9, 37.9, 37.0, 37.6, 37.3, 13.9, 13.4, 14.4, 14.9, 15.4, 8.5, 41.7, 42.8, 43.1, 43.5, 45.4, 9.5, 8.3, 8.7, 9.7, 10.8, 11.3, 11.7, 12.3, 12.8, 13.2, 13.3, 13.8, 14.8, 14.3, 14.2, 15.2, 15.7, 15.3, 16.2, 16.8, 16.3, 16.7, 17.3, 17.8, 17.2, 17.7, 18.7, 18.8, 18.3, 19.3, 19.7, 19.8, 19.2, 20.2, 20.8, 20.3, 20.7, 21.2, 21.8, 22.2, 22.8, 22.7, 22.3, 23.3, 23.8, 23.2, 23.7, 24.8, 24.2, 24.3, 25.3, 25.2, 26.7, 26.2, 7.5, 28.2, 29.8, 30.3, 30.7, 5.6, 31.7, 31.2, 8.1, 9.6, 12.1, 12.6, 13.1, 14.6, 14.1, 15.6, 15.1}\n"
     ]
    }
   ],
   "source": [
    "# 타깃 데이터 종류 확인\n",
    "# 라벨 종류를 확인함으로써 분류 문제인지 회귀 문제인지 파악\n",
    "# 회귀 문제라면 데이터 값이 연속형 숫자\n",
    "print(set(Y))"
   ]
  },
  {
   "cell_type": "code",
   "execution_count": 6,
   "id": "4496cc4b",
   "metadata": {},
   "outputs": [],
   "source": [
    "# 훈련/테스트 데이터 분할\n",
    "from sklearn.model_selection import train_test_split\n",
    "\n",
    "x_tn, x_te, y_tn, y_te = train_test_split(X, Y, random_state = 0)"
   ]
  },
  {
   "cell_type": "code",
   "execution_count": 7,
   "id": "b2fc176d",
   "metadata": {},
   "outputs": [],
   "source": [
    "# 신경망 생성\n",
    "from tensorflow.keras.models import Sequential\n",
    "from tensorflow.keras.layers import Dense\n",
    "\n",
    "n_feat = x_tn.shape[1] # 신경망에 사용되는 피처 개수 저장 : 13\n",
    "epo = 30 # 딥러닝 학습 횟수\n",
    "\n",
    "model = Sequential() # 초기 모형 생성\n",
    "model.add(Dense(20, input_dim = n_feat, activation = 'relu')) # Dense() : 층 추가, input_dim : 피처 개수, activation : 활성화 함수\n",
    "model.add(Dense(1)) # 최종 Output 층 : 집값을 예측하므로 1개의 노드로 출력\n",
    "# 최종 활성화 함수를 지정하지 않으면 선형 함수가 적용됨"
   ]
  },
  {
   "cell_type": "code",
   "execution_count": 8,
   "id": "3ab4eb1f",
   "metadata": {},
   "outputs": [],
   "source": [
    "# 모형 컴파일\n",
    "# loss : 손실 함수\n",
    "# metrics : 평가 기준\n",
    "model.compile(loss = 'mean_squared_error', optimizer = 'adam', metrics = ['mean_squared_error'])"
   ]
  },
  {
   "cell_type": "code",
   "execution_count": 9,
   "id": "8d604639",
   "metadata": {},
   "outputs": [
    {
     "name": "stdout",
     "output_type": "stream",
     "text": [
      "Epoch 1/30\n",
      "76/76 [==============================] - 1s 1ms/step - loss: 1096.8773 - mean_squared_error: 1096.8773\n",
      "Epoch 2/30\n",
      "76/76 [==============================] - 0s 1ms/step - loss: 103.8149 - mean_squared_error: 103.8149\n",
      "Epoch 3/30\n",
      "76/76 [==============================] - 0s 1ms/step - loss: 77.5188 - mean_squared_error: 77.5188\n",
      "Epoch 4/30\n",
      "76/76 [==============================] - 0s 2ms/step - loss: 68.6277 - mean_squared_error: 68.6277\n",
      "Epoch 5/30\n",
      "76/76 [==============================] - 0s 1ms/step - loss: 55.6366 - mean_squared_error: 55.6366\n",
      "Epoch 6/30\n",
      "76/76 [==============================] - 0s 1ms/step - loss: 55.9961 - mean_squared_error: 55.9961\n",
      "Epoch 7/30\n",
      "76/76 [==============================] - 0s 1ms/step - loss: 56.1513 - mean_squared_error: 56.1513\n",
      "Epoch 8/30\n",
      "76/76 [==============================] - 0s 1ms/step - loss: 51.2579 - mean_squared_error: 51.2580\n",
      "Epoch 9/30\n",
      "76/76 [==============================] - 0s 1ms/step - loss: 54.8707 - mean_squared_error: 54.8707\n",
      "Epoch 10/30\n",
      "76/76 [==============================] - 0s 1ms/step - loss: 43.9107 - mean_squared_error: 43.9107\n",
      "Epoch 11/30\n",
      "76/76 [==============================] - 0s 1ms/step - loss: 34.2911 - mean_squared_error: 34.2911\n",
      "Epoch 12/30\n",
      "76/76 [==============================] - 0s 1ms/step - loss: 35.6017 - mean_squared_error: 35.6017\n",
      "Epoch 13/30\n",
      "76/76 [==============================] - 0s 1ms/step - loss: 38.8796 - mean_squared_error: 38.8796\n",
      "Epoch 14/30\n",
      "76/76 [==============================] - 0s 1ms/step - loss: 32.3616 - mean_squared_error: 32.3616\n",
      "Epoch 15/30\n",
      "76/76 [==============================] - 0s 1ms/step - loss: 35.8495 - mean_squared_error: 35.8495\n",
      "Epoch 16/30\n",
      "76/76 [==============================] - 0s 1ms/step - loss: 40.6461 - mean_squared_error: 40.6461\n",
      "Epoch 17/30\n",
      "76/76 [==============================] - 0s 1ms/step - loss: 37.6541 - mean_squared_error: 37.6541\n",
      "Epoch 18/30\n",
      "76/76 [==============================] - 0s 1ms/step - loss: 31.2151 - mean_squared_error: 31.2151\n",
      "Epoch 19/30\n",
      "76/76 [==============================] - 0s 1ms/step - loss: 32.1372 - mean_squared_error: 32.1372\n",
      "Epoch 20/30\n",
      "76/76 [==============================] - 0s 1ms/step - loss: 37.4435 - mean_squared_error: 37.4435\n",
      "Epoch 21/30\n",
      "76/76 [==============================] - 0s 1ms/step - loss: 36.0835 - mean_squared_error: 36.0835\n",
      "Epoch 22/30\n",
      "76/76 [==============================] - 0s 1ms/step - loss: 28.9385 - mean_squared_error: 28.9385\n",
      "Epoch 23/30\n",
      "76/76 [==============================] - 0s 1ms/step - loss: 33.8709 - mean_squared_error: 33.8709\n",
      "Epoch 24/30\n",
      "76/76 [==============================] - 0s 1ms/step - loss: 34.3815 - mean_squared_error: 34.3815\n",
      "Epoch 25/30\n",
      "76/76 [==============================] - 0s 1ms/step - loss: 30.6613 - mean_squared_error: 30.6613\n",
      "Epoch 26/30\n",
      "76/76 [==============================] - 0s 1ms/step - loss: 32.7634 - mean_squared_error: 32.7634\n",
      "Epoch 27/30\n",
      "76/76 [==============================] - 0s 1ms/step - loss: 34.4930 - mean_squared_error: 34.4930\n",
      "Epoch 28/30\n",
      "76/76 [==============================] - 0s 1ms/step - loss: 33.8283 - mean_squared_error: 33.8283\n",
      "Epoch 29/30\n",
      "76/76 [==============================] - 0s 1ms/step - loss: 35.8844 - mean_squared_error: 35.8844\n",
      "Epoch 30/30\n",
      "76/76 [==============================] - 0s 1ms/step - loss: 31.8254 - mean_squared_error: 31.8254\n"
     ]
    }
   ],
   "source": [
    "# 신경망 학습\n",
    "hist = model.fit(x_tn, y_tn, epochs = epo, batch_size = 5)"
   ]
  },
  {
   "cell_type": "code",
   "execution_count": 10,
   "id": "5d31fffb",
   "metadata": {},
   "outputs": [
    {
     "name": "stdout",
     "output_type": "stream",
     "text": [
      "12/12 [==============================] - 0s 1ms/step - loss: 51.5177 - mean_squared_error: 51.5177\n",
      "51.51772689819336\n",
      "4/4 [==============================] - 0s 2ms/step - loss: 73.7696 - mean_squared_error: 73.7696\n",
      "73.76957702636719\n"
     ]
    }
   ],
   "source": [
    "# 모형 평가\n",
    "# 훈련 데이터 평가\n",
    "print(model.evaluate(x_tn, y_tn)[1])\n",
    "\n",
    "# 테스트 데이터 평가\n",
    "print(model.evaluate(x_te, y_te)[1])"
   ]
  },
  {
   "cell_type": "code",
   "execution_count": 12,
   "id": "c6a3b612",
   "metadata": {},
   "outputs": [
    {
     "name": "stdout",
     "output_type": "stream",
     "text": [
      "[ 1  2  3  4  5  6  7  8  9 10 11 12 13 14 15 16 17 18 19 20 21 22 23 24\n",
      " 25 26 27 28 29 30]\n",
      "[474.53509521484375, 97.42201232910156, 81.1477279663086, 72.5716552734375, 63.10134506225586, 57.29955291748047, 53.318885803222656, 48.01311111450195, 44.4188232421875, 44.66872024536133, 39.8713493347168, 37.48973083496094, 37.28646469116211, 34.644290924072266, 35.207862854003906, 37.19633865356445, 36.65481948852539, 35.42890548706055, 33.9388427734375, 34.50981521606445, 36.373538970947266, 35.87366485595703, 34.521514892578125, 35.42803955078125, 33.25058364868164, 36.93310546875, 31.054473876953125, 34.87513732910156, 32.48378372192383, 31.72081184387207]\n",
      "[474.53509521484375, 97.42201232910156, 81.1477279663086, 72.5716552734375, 63.10135269165039, 57.29955291748047, 53.318885803222656, 48.01311111450195, 44.4188232421875, 44.66872024536133, 39.8713493347168, 37.48973083496094, 37.286468505859375, 34.644290924072266, 35.207862854003906, 37.19633865356445, 36.65481948852539, 35.42890548706055, 33.938846588134766, 34.50981521606445, 36.373538970947266, 35.87366485595703, 34.521514892578125, 35.42803955078125, 33.25058364868164, 36.93310546875, 31.054471969604492, 34.87513732910156, 32.48378372192383, 31.72081184387207]\n"
     ]
    }
   ],
   "source": [
    "# 시각화 준비 과정\n",
    "import numpy as np\n",
    "\n",
    "# 시각화 플롯에서 x축에 적용될 epoch 설정\n",
    "epoch = np.arange(1, epo + 1)\n",
    "print(epoch)\n",
    "\n",
    "# 각 epoch 별 MSE 값 확인\n",
    "mse = hist.history['mean_squared_error']\n",
    "print(mse)\n",
    "\n",
    "# 각 epoch 별 손실값 확인\n",
    "loss = hist.history['loss']\n",
    "print(loss)"
   ]
  },
  {
   "cell_type": "code",
   "execution_count": 14,
   "id": "696e5ea1",
   "metadata": {},
   "outputs": [
    {
     "data": {
      "image/png": "[encoded data removed]",
      "text/plain": [
       "<Figure size 432x288 with 1 Axes>"
      ]
     },
     "metadata": {
      "needs_background": "light"
     },
     "output_type": "display_data"
    }
   ],
   "source": [
    "# MSE 학습 그래프\n",
    "import matplotlib.pyplot as plt\n",
    "\n",
    "plt.plot(epoch, mse, label = 'mse')\n",
    "plt.xlabel('epoch')\n",
    "plt.ylabel('mean_squared_error')\n",
    "plt.legend()\n",
    "plt.show()"
   ]
  },
  {
   "cell_type": "code",
   "execution_count": 15,
   "id": "b28b0993",
   "metadata": {},
   "outputs": [
    {
     "data": {
      "image/png": "[encoded data removed]",
      "text/plain": [
       "<Figure size 432x288 with 1 Axes>"
      ]
     },
     "metadata": {
      "needs_background": "light"
     },
     "output_type": "display_data"
    }
   ],
   "source": [
    "# 손실 학습 그래프\n",
    "import matplotlib.pyplot as plt\n",
    "\n",
    "plt.plot(epoch, loss, 'r', label = 'loss')\n",
    "plt.xlabel('epoch')\n",
    "plt.ylabel('loss')\n",
    "plt.legend()\n",
    "plt.show()"
   ]
  },
  {
   "cell_type": "code",
   "execution_count": 17,
   "id": "4f6f8c0b",
   "metadata": {},
   "outputs": [
    {
     "name": "stdout",
     "output_type": "stream",
     "text": [
      "[14.985907  17.722858  26.276215   7.8781705 15.060705  20.336605\n",
      " 11.602329  22.116417  13.268801   7.8540196  5.0887647  9.5856285\n",
      " 10.8198395  2.637917  33.327614  22.744896  13.659298  29.577385\n",
      " 24.691822  21.305126  22.913738  16.998653  16.071018  26.362679\n",
      " 21.458807  10.705963  17.394463  10.996267  28.356056  15.085167\n",
      " 10.755394  12.818447  17.777937  20.254642  24.837711  13.036533\n",
      "  4.2204633 17.00565    6.434193   6.45517   22.600845  18.922688\n",
      " 12.991327   9.808994  17.064798  23.845364  16.277933  14.536419\n",
      "  7.7061467 20.49448    7.738854  11.103327  19.002756  22.431572\n",
      "  7.748492  15.4182    17.317778  10.086557  14.948185  18.089859\n",
      " 16.191046  18.737839  25.028482  24.202707   9.018105  24.219604\n",
      " 11.716774  13.978583   8.457424  20.773361  15.849079  17.648874\n",
      " 26.901308  23.90348   16.912735  -1.1799694 27.15009   20.387608\n",
      " 23.060745  16.443514  22.725914  17.230642  14.859665  28.543371\n",
      " 28.260939  21.94674   20.232273   4.786793  24.304674   8.996201\n",
      "  9.6719265  4.323441  23.704666  25.404701  24.69844   17.693146\n",
      " -2.9573855 24.963015   7.9581456 17.905304  20.100597  19.04658\n",
      " 25.408184  17.43446   20.638992  20.284746  -1.1074406 12.106861\n",
      " 23.61198   20.73256   26.396118   5.177754  15.860956   9.926989\n",
      "  5.1110272 17.216713  -3.8999896 19.045204   5.512467  38.194817\n",
      " 23.712425   7.661011  15.8481455 17.64737   22.671597  18.30481\n",
      " 30.219217 ]\n"
     ]
    },
    {
     "data": {
      "text/html": [
       "<div>\n",
       "<style scoped>\n",
       "    .dataframe tbody tr th:only-of-type {\n",
       "        vertical-align: middle;\n",
       "    }\n",
       "\n",
       "    .dataframe tbody tr th {\n",
       "        vertical-align: top;\n",
       "    }\n",
       "\n",
       "    .dataframe thead th {\n",
       "        text-align: right;\n",
       "    }\n",
       "</style>\n",
       "<table border=\"1\" class=\"dataframe\">\n",
       "  <thead>\n",
       "    <tr style=\"text-align: right;\">\n",
       "      <th></th>\n",
       "      <th>predict_val</th>\n",
       "      <th>real_val</th>\n",
       "    </tr>\n",
       "  </thead>\n",
       "  <tbody>\n",
       "    <tr>\n",
       "      <th>116</th>\n",
       "      <td>-3.899990</td>\n",
       "      <td>8.4</td>\n",
       "    </tr>\n",
       "    <tr>\n",
       "      <th>96</th>\n",
       "      <td>-2.957386</td>\n",
       "      <td>13.8</td>\n",
       "    </tr>\n",
       "    <tr>\n",
       "      <th>75</th>\n",
       "      <td>-1.179969</td>\n",
       "      <td>7.4</td>\n",
       "    </tr>\n",
       "  </tbody>\n",
       "</table>\n",
       "</div>"
      ],
      "text/plain": [
       "     predict_val  real_val\n",
       "116    -3.899990       8.4\n",
       "96     -2.957386      13.8\n",
       "75     -1.179969       7.4"
      ]
     },
     "execution_count": 17,
     "metadata": {},
     "output_type": "execute_result"
    }
   ],
   "source": [
    "# 실제값, 예측값 데이터 프레임 생성\n",
    "pred_y = model.predict(x_te).flatten() # flatten() : 예측값을 펼치는 것을 의미, 데이터 프레임을 만들기 위함\n",
    "print(pred_y)\n",
    "\n",
    "# 데이터 프레임 생성을 위한 Pandas 라이브러리\n",
    "import pandas as pd\n",
    "\n",
    "res_df = pd.DataFrame(pred_y, columns = ['predict_val']) # 예측값을 이용해 데이터 프레임 생성\n",
    "res_df['real_val'] = y_te # 실제값을 새로운 열로 추가\n",
    "res_df.head(3) # 생성된 데이터 프레임 확인\n",
    "\n",
    "df_sort = res_df.sort_values([\"predict_val\"], ascending = True) # 예측값의 기준을 오름차순으로 정렬\n",
    "df_sort.head(3) # 예측값을 기준으로 오름차순이 된 데이터 프레임 결과 확인"
   ]
  },
  {
   "cell_type": "code",
   "execution_count": 20,
   "id": "b2e222d0",
   "metadata": {},
   "outputs": [
    {
     "data": {
      "image/png": "[encoded data removed]",
      "text/plain": [
       "<Figure size 432x288 with 1 Axes>"
      ]
     },
     "metadata": {
      "needs_background": "light"
     },
     "output_type": "display_data"
    }
   ],
   "source": [
    "# 예측값, 실제값 그래프\n",
    "import matplotlib.pyplot as plt\n",
    "import numpy as np\n",
    "\n",
    "idx = np.arange(1, len(df_sort) + 1)\n",
    "plt.scatter(idx, df_sort['real_val'], marker = 'o', label = 'real_val')\n",
    "plt.plot(idx, df_sort['predict_val'], color = 'r', label = 'predict_val')\n",
    "plt.xlabel('index')\n",
    "plt.ylabel('value')\n",
    "plt.legend()\n",
    "plt.show()"
   ]
  }
 ],
 "metadata": {
  "kernelspec": {
   "display_name": "study_ml",
   "language": "python",
   "name": "study_ml"
  },
  "language_info": {
   "codemirror_mode": {
    "name": "ipython",
    "version": 3
   },
   "file_extension": ".py",
   "mimetype": "text/x-python",
   "name": "python",
   "nbconvert_exporter": "python",
   "pygments_lexer": "ipython3",
   "version": "3.8.5"
  }
 },
 "nbformat": 4,
 "nbformat_minor": 5
}
